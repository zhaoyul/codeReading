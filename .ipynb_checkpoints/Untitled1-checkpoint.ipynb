{
 "metadata": {
  "name": "",
  "signature": "sha256:8c4a6445464546d4a0345594dbb4c1b2a62386f3022529e843943960350e84ed"
 },
 "nbformat": 3,
 "nbformat_minor": 0,
 "worksheets": []
}