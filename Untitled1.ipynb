{
 "metadata": {
  "name": "",
  "signature": "sha256:e977643a0db7199a53181e7575299d000fdfb3c9f6af0a96cd4149ce592bfa3b"
 },
 "nbformat": 3,
 "nbformat_minor": 0,
 "worksheets": [
  {
   "cells": [
    {
     "cell_type": "code",
     "collapsed": false,
     "input": [
      "import requests\n",
      "import json"
     ],
     "language": "python",
     "metadata": {},
     "outputs": [],
     "prompt_number": 7
    },
    {
     "cell_type": "code",
     "collapsed": false,
     "input": [],
     "language": "python",
     "metadata": {},
     "outputs": []
    },
    {
     "cell_type": "code",
     "collapsed": false,
     "input": [
      "url = \"http://sixinone.qdznjt.com/sixinone/services/queryObjectOut\""
     ],
     "language": "python",
     "metadata": {},
     "outputs": [],
     "prompt_number": 3
    },
    {
     "cell_type": "code",
     "collapsed": false,
     "input": [
      "headers = {'content-type':\"application/json\", \n",
      "                   \"xtlb\":\"aiqingdao\",\n",
      "                   \"jkid\":\"04C01\",\n",
      "               \"authCode\":\"53ea94bd0c68477685be10287f2c3867\"}\n",
      "print headers\n",
      "payload = {\n",
      "  \"hpzl\": \"02\",\n",
      "  \"hphm\": \"\u9c81B768G7\",\n",
      "  \"clsbdh\": \"7762\",\n",
      "  \"sjhm\": \"18888888888\",\n",
      "  \"startNum\":1,\n",
      "  \"endNum\":5\n",
      "}\n",
      "\n",
      "r = requests.post(url, data=json.dumps(payload), headers=headers)\n",
      "#headers.add(\"xtlb\", \"hiatmp\");//\u7cfb\u7edf\u7c7b\u522b\n",
      "#headers.add(\"jkid\", \"00001\");//\u63a5\u53e3\u6807\u8bc6\n",
      "#headers.add(\"authCode\", \"00001\");//\u6388\u6743\u7801\n",
      "print r.text"
     ],
     "language": "python",
     "metadata": {},
     "outputs": [
      {
       "output_type": "stream",
       "stream": "stdout",
       "text": [
        "{'authCode': '53ea94bd0c68477685be10287f2c3867', 'jkid': '04C01', 'content-type': 'application/json', 'xtlb': 'aiqingdao'}\n",
        "{\"errorCode\":1002,\"errorMsg\":\"\u6388\u6743\u9519\u8bef\uff0c\u7981\u6b62\u8bbf\u95ee\uff01\"}"
       ]
      },
      {
       "output_type": "stream",
       "stream": "stdout",
       "text": [
        "\n"
       ]
      }
     ],
     "prompt_number": 15
    },
    {
     "cell_type": "code",
     "collapsed": false,
     "input": [],
     "language": "python",
     "metadata": {},
     "outputs": []
    }
   ],
   "metadata": {}
  }
 ]
}