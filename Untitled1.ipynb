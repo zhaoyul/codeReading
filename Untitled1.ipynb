{
 "metadata": {
  "name": "",
  "signature": "sha256:112c323fc16e3bb04f011ffdaf05ea9ca6ae68866305de5f1a8ab4bf85292818"
 },
 "nbformat": 3,
 "nbformat_minor": 0,
 "worksheets": [
  {
   "cells": [
    {
     "cell_type": "code",
     "collapsed": false,
     "input": [
      "import requests\n",
      "import json"
     ],
     "language": "python",
     "metadata": {},
     "outputs": [],
     "prompt_number": 7
    },
    {
     "cell_type": "code",
     "collapsed": false,
     "input": [],
     "language": "python",
     "metadata": {},
     "outputs": []
    },
    {
     "cell_type": "code",
     "collapsed": false,
     "input": [
      "url = \"http://sixinone.qdznjt.com/sixinone/services/queryObjectOut\""
     ],
     "language": "python",
     "metadata": {},
     "outputs": [],
     "prompt_number": 3
    },
    {
     "cell_type": "code",
     "collapsed": false,
     "input": [
      "import requests\n",
      "import json\n",
      "url = \"http://sixinone.qdznjt.com/sixinone/services/queryObjectOut\"\n",
      "headers = {'content-type':\"application/json\", \n",
      "                   \"xtlb\":\"aiqingdao\",\n",
      "                   \"jkid\":\"04C01\",\n",
      "               \"authCode\":\"53ea94bd0c68477685be10287f2c3867\"}\n",
      "payload = {\n",
      "  \"hpzl\": \"02\",\n",
      "  \"hphm\": \"\u9c81B789CA\",\n",
      "  \"clsbdh\": \"6170\",\n",
      "  \"sjhm\": \"18888888888\",\n",
      "  \"startNum\":1,\n",
      "  \"endNum\":5\n",
      "}\n",
      "\n",
      "r = requests.post(url, data=json.dumps(payload), headers=headers)\n",
      "\n",
      "print r.text"
     ],
     "language": "python",
     "metadata": {},
     "outputs": [
      {
       "output_type": "stream",
       "stream": "stdout",
       "text": [
        "{\"errorCode\":1002,\"errorMsg\":\"\u6388\u6743\u9519\u8bef\uff0c\u7981\u6b62\u8bbf\u95ee\uff01\"}\n"
       ]
      }
     ],
     "prompt_number": 3
    },
    {
     "cell_type": "code",
     "collapsed": false,
     "input": [],
     "language": "python",
     "metadata": {},
     "outputs": [],
     "prompt_number": 1
    },
    {
     "cell_type": "code",
     "collapsed": false,
     "input": [],
     "language": "python",
     "metadata": {},
     "outputs": []
    }
   ],
   "metadata": {}
  }
 ]
}